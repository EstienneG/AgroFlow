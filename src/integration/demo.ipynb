{
 "cells": [
  {
   "cell_type": "code",
   "execution_count": 1,
   "id": "fcf0c4ea",
   "metadata": {},
   "outputs": [],
   "source": [
    "from llama_index.llms.mistralai import MistralAI\n",
    "from llama_index.core.llms import ChatMessage\n",
    "from mistralai import Mistral\n",
    "import os\n",
    "\n",
    "MISTRAL_API_KEY = os.getenv(\"MISTRAL_API_KEY\")\n",
    "model = \"mistral-large-latest\"\n",
    "\n",
    "client = Mistral(api_key=MISTRAL_API_KEY)"
   ]
  },
  {
   "cell_type": "markdown",
   "id": "52035c60",
   "metadata": {},
   "source": [
    "Intent detection"
   ]
  },
  {
   "cell_type": "code",
   "execution_count": 2,
   "id": "4f929173",
   "metadata": {},
   "outputs": [
    {
     "data": {
      "text/plain": [
       "'disease_diagnosis'"
      ]
     },
     "execution_count": 2,
     "metadata": {},
     "output_type": "execute_result"
    }
   ],
   "source": [
    "def detect_intent(user_input):\n",
    "    response = client.classifiers.classify(\n",
    "    model=\"ft:classifier:ministral-3b-latest:82f3f89c:20250422:agro-intent-clf:a0b2cfa8\",\n",
    "    inputs=[user_input],\n",
    "    )\n",
    "    scores = response.results[0]['intent'].scores\n",
    "    predicted_label = max(scores, key=scores.get)\n",
    "\n",
    "    return predicted_label\n",
    "\n",
    "detect_intent(\"How do I know if my tomato is sick ?\")"
   ]
  },
  {
   "cell_type": "markdown",
   "id": "e10e1f15",
   "metadata": {},
   "source": [
    "Vector search"
   ]
  },
  {
   "cell_type": "code",
   "execution_count": 3,
   "id": "a4921543",
   "metadata": {},
   "outputs": [
    {
     "name": "stdout",
     "output_type": "stream",
     "text": [
      "Loaded 143 document embeddings for technical_reports\n",
      "Document embeddings loaded successfully\n"
     ]
    }
   ],
   "source": [
    "from utils import initialize_qdrant\n",
    "\n",
    "qdrant_client = initialize_qdrant()"
   ]
  },
  {
   "cell_type": "code",
   "execution_count": 21,
   "id": "7ff75350",
   "metadata": {},
   "outputs": [
    {
     "data": {
      "text/plain": [
       "{'2022_fiche-technique_environnement-2_nitrates': np.float64(0.0773110944521891),\n",
       " '2022_fiche-technique_presentation-generale': np.float64(0.6346333479492641),\n",
       " '2022_fiche-technique_sante-animaux-1_paquet-hygiene': np.float64(0.3223579544299179),\n",
       " '2022_fiche-technique_sante-animaux-3_ESST': np.float64(0.8302436619876772),\n",
       " '2022_fiche-technique_sante-animaux-4_identification': np.float64(0.11215354474649615),\n",
       " '2022_fiche-technique_sante-vegetaux-1_utilisation-PPP': np.float64(0.6059350915699976),\n",
       " '2022_fiche-technique_sante-vegetaux-2_paquet-hygiene': np.float64(0.6323755517108296),\n",
       " '2023_fiche-technique_BCAE7_rotation': np.float64(0.31559470383279503),\n",
       " '2023_fiche-technique_presentation-generale': np.float64(0.49884072436573423),\n",
       " '2023_fiche-technique_sante-vegetaux-1_utilisation-PPP': np.float64(0.9790109814903912),\n",
       " '2023_fiche-technique_sante-vegetaux-2_paquet-hygiene': np.float64(1.0),\n",
       " '2024_fiche-technique_BCAE7_rotation': np.float64(0.4036733569735661),\n",
       " '2024_fiche-technique_environnement-1_directive_cadre_eau': np.float64(0.07336758421651524),\n",
       " '2024_fiche-technique_environnement-2_nitrates': np.float64(0.05846008205176826),\n",
       " '2024_fiche-technique_presentation-generale': np.float64(0.5844910548457619),\n",
       " '2024_fiche-technique_sante-vegetaux-1_utilisation-PPP': np.float64(0.8789979328873639),\n",
       " '2024_fiche-technique_sante-vegetaux-2_paquet-hygiene': np.float64(0.7269942054339859)}"
      ]
     },
     "execution_count": 21,
     "metadata": {},
     "output_type": "execute_result"
    }
   ],
   "source": [
    "import numpy as np\n",
    "\n",
    "def score_vector_search(query, collection_name=\"technical_reports\"):\n",
    "    query_embedding = client.embeddings.create(\n",
    "        model=\"mistral-embed\",\n",
    "        inputs=[query],\n",
    "    ).data[0].embedding\n",
    "\n",
    "    response = qdrant_client.query_points(\n",
    "        collection_name=collection_name,\n",
    "        query=query_embedding,\n",
    "        limit=30,\n",
    "    )\n",
    "\n",
    "    file_names = np.array([score.payload['file_name'].replace('.md', '') for score in response.points])\n",
    "    scores_arr = np.array([score.score for score in response.points])\n",
    "\n",
    "    unique_files = np.unique(file_names)\n",
    "    scores_arr_norm = (scores_arr - np.nanmin(scores_arr)) / np.ptp(scores_arr) if np.ptp(scores_arr) > 0 else np.ones_like(scores_arr)\n",
    "\n",
    "    max_scores_by_files = {str(file): scores_arr_norm[file_names == file].max() for file in unique_files}\n",
    "\n",
    "    return max_scores_by_files\n",
    "\n",
    "scores = score_vector_search(\"How do I know if my tomato is sick ?\")\n",
    "scores"
   ]
  },
  {
   "cell_type": "markdown",
   "id": "a016e5bc",
   "metadata": {},
   "source": [
    "BM25 search"
   ]
  },
  {
   "cell_type": "code",
   "execution_count": 5,
   "id": "7058e411",
   "metadata": {},
   "outputs": [
    {
     "name": "stderr",
     "output_type": "stream",
     "text": [
      "[nltk_data] Downloading package punkt to /home/estienne/nltk_data...\n",
      "[nltk_data]   Package punkt is already up-to-date!\n"
     ]
    }
   ],
   "source": [
    "from utils import initialize_bm25\n",
    "\n",
    "bm25 = initialize_bm25()"
   ]
  },
  {
   "cell_type": "code",
   "execution_count": 18,
   "id": "5d6daeb8",
   "metadata": {},
   "outputs": [
    {
     "data": {
      "text/plain": [
       "{'2022_fiche-technique_environnement-1_oiseaux-sauvages-habitats': np.float64(1.0),\n",
       " '2024_fiche-technique_BCAE8_biodiversite': np.float64(0.9099175712690547),\n",
       " '2022_fiche-technique_presentation-generale': np.float64(0.8473319764353349),\n",
       " '2022_fiche-technique_environnement-2_nitrates': np.float64(0.8424240240181591),\n",
       " '2022_fiche-technique_BCAE1_bande-tampon': np.float64(0.8341761022982922),\n",
       " '2024_fiche-technique_environnement-2_nitrates': np.float64(0.8197831308667083),\n",
       " '2022_fiche-technique_sante-animaux-1_paquet-hygiene': np.float64(0.801946336433694),\n",
       " '2023_fiche-technique_BCAE1_maintien-prairies-permanentes': np.float64(0.7814109494570135),\n",
       " '2024_fiche-technique_environnement-3_oiseaux_sauvages-habitats': np.float64(0.7808655207518197),\n",
       " '2023_fiche-technique_sante-vegetaux-1_utilisation-PPP': np.float64(0.7802726174229754),\n",
       " '2023_fiche-technique_BCAE8_biodiversite': np.float64(0.7652721395275097),\n",
       " '2024_fiche-technique_presentation-generale': np.float64(0.6380179581532436),\n",
       " '2023_fiche-technique_environnement-3_oiseaux_sauvages-habitats': np.float64(0.5887461659710432),\n",
       " '2023_fiche-technique_environnement-2_nitrates': np.float64(0.5739901254440533),\n",
       " '2022_fiche-technique_sante-vegetaux-1_utilisation-PPP': np.float64(0.4884698920697645),\n",
       " '2023_fiche-technique_presentation-generale': np.float64(0.4133739988444236),\n",
       " '2023_fiche-technique_sante-animaux-1_paquet-hygiene': np.float64(0.058730746109254675),\n",
       " '2024_fiche-technique_sante-animaux-1_paquet-hygiene': np.float64(0.058147807721617414),\n",
       " '2022_fiche-technique_sante-vegetaux-2_paquet-hygiene': np.float64(0.029316618715497195),\n",
       " '2023_fiche-technique_sante-vegetaux-2_paquet-hygiene': np.float64(0.020201850210165025),\n",
       " '2024_fiche-technique_sante-vegetaux-2_paquet-hygiene': np.float64(0.018835332071948575),\n",
       " '2022_fiche-technique_BCAE6_matiere-organique': np.float64(0.017054099239475734),\n",
       " '2022_fiche-technique_sante-animaux-3_ESST': np.float64(0.012359940991909315),\n",
       " '2022_fiche-technique_BCAE4_couverture-sols': np.float64(0.010989910323345923),\n",
       " '2022_fiche-technique_BCAE4_couverture-sols_OM': np.float64(0.008671802760618337),\n",
       " '2022_fiche-technique_BCAE5_erosion': np.float64(0.007721270063310483),\n",
       " '2022_fiche-technique_sante-animaux-2_substances-interdites': np.float64(0.007179146401480042),\n",
       " '2022_fiche-technique_BCAE3_eaux-souterraines_OM': np.float64(0.005489855201296302),\n",
       " '2022_fiche-technique_BCAE3_eaux-souterraines': np.float64(0.005287632052304985),\n",
       " '2022_fiche-technique_BCAE5_erosion_OM': np.float64(0.0)}"
      ]
     },
     "execution_count": 18,
     "metadata": {},
     "output_type": "execute_result"
    }
   ],
   "source": [
    "import nltk\n",
    "import os\n",
    "\n",
    "file_names = os.listdir(\"../../data/txt/technical_reports\")\n",
    "\n",
    "def score_bm25(query, top_k=30):\n",
    "    tokenized_query = nltk.word_tokenize(query.lower())\n",
    "    scores = bm25.get_scores(tokenized_query)\n",
    "\n",
    "    scores_dict = dict(zip(file_names, scores))\n",
    "    top_files = sorted(scores_dict.items(), key=lambda x: x[1], reverse=True)[:top_k]\n",
    "    scores = np.array([score for _, score in top_files])\n",
    "\n",
    "    bm25_norm = (scores - np.nanmin(scores)) / np.ptp(scores)\n",
    "    norm_scores_dict = dict(zip([file.replace('.txt', '') for file, _ in top_files], bm25_norm))\n",
    "    \n",
    "    return norm_scores_dict\n",
    "\n",
    "score_bm25(\"How do I know if my tomato is sick ?\")"
   ]
  },
  {
   "cell_type": "markdown",
   "id": "80dd66c4",
   "metadata": {},
   "source": [
    "Fusion document ranking"
   ]
  },
  {
   "cell_type": "code",
   "execution_count": 53,
   "id": "b01862a8",
   "metadata": {},
   "outputs": [
    {
     "data": {
      "text/plain": [
       "{'2023_fiche-technique_sante-vegetaux-2_paquet-hygiene.md': np.float64(0.76630437896629),\n",
       " '2022_fiche-technique_sante-animaux-1_paquet-hygiene.md': np.float64(0.7552018219241939),\n",
       " '2022_fiche-technique_sante-vegetaux-2_paquet-hygiene.md': np.float64(0.7081201355625364),\n",
       " '2023_fiche-technique_sante-animaux-1_paquet-hygiene.md': np.float64(0.6908456257628153),\n",
       " '2024_fiche-technique_sante-animaux-1_paquet-hygiene.md': np.float64(0.6426470134379927)}"
      ]
     },
     "execution_count": 53,
     "metadata": {},
     "output_type": "execute_result"
    }
   ],
   "source": [
    "def score_fusion(query,top_k=5):\n",
    "    vector_scores = score_vector_search(query)\n",
    "    bm25_scores = score_bm25(query)\n",
    "\n",
    "    all_files = set(vector_scores.keys()).union(set(bm25_scores.keys()))\n",
    "    fusion_scores = {file: (vector_scores.get(file, 0) + bm25_scores.get(file, 0)) / 2 for file in all_files}\n",
    "\n",
    "    top_files = sorted(fusion_scores.items(), key=lambda x: x[-1], reverse=True)[:top_k]\n",
    "    top_files_dict = {file + \".md\": score for file, score in top_files}\n",
    "    return top_files_dict\n",
    "\n",
    "score_fusion(\"Quelle est la législation sur les OGM ?\")"
   ]
  },
  {
   "cell_type": "code",
   "execution_count": null,
   "id": "54d0f690",
   "metadata": {},
   "outputs": [],
   "source": [
    "def retrieve_documents(user_query):\n",
    "    scores = score_fusion(user_query)\n",
    "    documents = {k: v for k, v in scores.items()}\n",
    "    return documents\n",
    "\n",
    "retrieve_documents(\"Quelle est la législation sur les OGM ?\")"
   ]
  },
  {
   "cell_type": "code",
   "execution_count": 89,
   "id": "6c2b7032",
   "metadata": {},
   "outputs": [
    {
     "data": {
      "text/plain": [
       "[ScoredPoint(id='cb879bba-69ad-4d8c-a815-ce791526bc09', version=0, score=0.8000970153803234, payload={'text': \" est interdit, toutefois le préfet peut, par décision motivée, autoriser un agriculteur à procéder au labour de la bande tampon en raison de son infestation par une espèce invasive listée en annexe de la présente fiche ; dans tous les cas, un travail superficiel du sol est autorisé,\\n- dans le cas d'une parcelle en prairie ou pâturage, le pâturage de la bande tampon est autorisé, sous réserve du respect des règles d'usage pour l'accès des animaux au cours d'eau,\\n- la fauche ou le broyage sont autorisés sur une largeur maximale de 20 mètres sur les parcelles enherbées déclarées en jachère,\\n- les amendements alcalins (calciques et magnésiens) sont autorisés.\\n\\n# GRILLE BCAE - Bandes tampons le long des cours d'eau (Métropole) \\n\\n| Points de contrale | Anomalies | Système d'avertissement précoce |  | Réduction |\\n| :--: | :--: | :--: | :--: | :--: |\\n|  |  | Applicable? | Délai de remise en conformité |  |\\n| Réalisation de la bande tampon | Absence de bande tampon constatée uniquement sur les cours d'eau nouvellement qualifiés BCAE au titre de 2022. | Oui | 01/01/2023 |  |\\n|  | Absence de bande tampon constatée en dehors des cours d'eau nouvellement qualifiés BCAE au titre de 2022 : |  |  | $5 \\\\%$ |\\n|  | - sur une portion de cours d'eau BCAE traversant l'exploitation | Non |  | Intentionnelle |\\n|  | - le long de tous les cours d'eau BCAE traversant l'exploitation | Non |  | $3 \\\\%$ |\\n|  | Bande tampon de largeur insuffisante le long d'une partie du ou des cours d'eau BCAE traversant l'exploitation. | Non |  | $3 \\\\%$ |\\n|  | Pratique d'entretien interdite sur la bande tampon le long du ou des cours d'eau BCAE traversant l'exploitation. | Non |  | $3 \\\\%$ |\\n\\nLe tableau de l'annexe IV, est ainsi modifié:\\n\\n| ESPÈCE (NOM LATIN) | ESPÈCE (NOM FRANÇAIS) | FAMILLE |\\n| :--: | :--: | :--: |\\n| Amorpha fruticosa | Faux-indigo | Fabaceae |\\n| Bidens subalternans | Bident à folioles subalternes | Asteraceae |\\n| Bothriochloa bardinodis | Barbon Andropogon | Poaceae |\\n| Bunias orientalis | Bunias d'Orient | Brassicaceae |\\n| Cortaderia selloana | L'herbe de la pampa | Poaceae |\\n| Eragrostis curvula | Eragrostide | Poaceae |\\n| Euphorbia esula | Euphorbe ésule | Euphorbiaceae |\\n| Galega officinalis | Galéga officinal | Fabaceae |\\n\\nFiche conditionnalité 2022 - sous-domaine «BCAE »\\nFiche BCAE I - Bandes tampons - 3/4\\n\\n| Paspalum dilatatum | Paspale dilaté | Poaceae |\\n| :-- | :-- | :-- |\\n| Paspalum distichum | Paspale distique | Poaceae |\\n| Sicyos angulata L. | Sycios anguleux | Cucurbitaceae |\\n| Solanum eleagnifolium | Morelle à feuilles de chalef | Solanaceae |\\n| Solidago canadensis | Solidage du Canada | Asteraceae |\\n| Solidago gigantea | Solidage glabre | Asteraceae |\", 'file_name': '2022_fiche-technique_BCAE1_bande-tampon.md', 'date': '2022'}, vector=None, shard_key=None, order_value=None),\n",
       " ScoredPoint(id='803ae3e1-45a1-416f-9faf-8ae06a7f6a76', version=0, score=0.7990525144932015, payload={'text': \"# DOWAINE « SANTÉ PUBLIQUE, SANTÉ \\n\\n## MINISTÈRE DE L'AGRICULTURE ET DE LA SOUVERAINETÉ ALIMENTAIRE\\n\\nLíberté Égallié\\nFrotereité\\n\\n## ANIMALE ET VÉGÉTALE»\\n\\nSous-domaine « Santé - Productions animales » Fiche santé animaux IV\\n\\n## IDENTIFICATION ET ENREGISTREMENT DES ANIMAUX\\n\\n## Quel est l'objectif?\\n\\nL'identification pérenne généralisée (IPG), mise en place dès 1978 en France, a pour objectif de garantir une véritable traçabilité des animaux¹. Cette traçabilité est indispensable pour lutter efficacement contre les maladies animales, garantir la sécurité sanitaire des aliments et maintenir la confiance des consommateurs dans la viande d'origine française et communautaire. L'éleveur est ainsi l'acteur principal du premier maillon de la traçabilité des denrées en vue de l'étiquetage.\\n\\n## Qui est concerné ?\\n\\nTous les éleveurs de bovins, de porcins, d'ovins ou de caprins (qu'ils bénéficient ou non d'aides animales et/ou d'autres aides de la PAC), et en particulier les exploitants demandeurs d'aides soumises à la conditionnalité ${ }^{2}$, sont tenus de respecter l'ensemble des règles régissant l'identification et l'enregistrement des animaux.\\n\\n## Que vérifie-t-on?\\n\\nLe système d'identification des animaux repose en particulier sur les éléments suivants :\\n\\n- le marquage individuel des animaux ;\\n- la tenue du registre ;\\n- les documents d'accompagnement des animaux (passeport pour les bovins, document de chargement / déchargement pour les porcins, document de circulation pour les ovins et caprins) ;\\n- la notification des mouvements à la base de données nationale.\\n\\nLes agents sont habilités à vérifier les documents devant être conservés par les éleveurs pour les années antérieures à celle du contrôle, mais seules les anomalies constatées sur les douze mois qui précèdent le contrôle (sauf mention particulière dans la grille) sont retenues au titre de la conditionnalité.\\n\\nLa réglementation stipule que les contrôles doivent être inopinés. Toutefois, pour des raisons pratiques, l'éleveur peut être averti 48 heures avant le contrôle. L'éleveur doit assurer la contention des animaux durant le contrôle.\\n\\n[^0]\\n[^0]:    ${ }^{1}$ Directive 2008/71/CE du Conseil du 15 juillet 2008 articles 3, 4 et 5 - Règlement (UE) n²/08/429 du Parlement Européen et du Conseil du 9 mars 2016 - articles 102, 112, 113 et 115. Règlement (CE) $n^{2} 21 / 2004$ du Conseil du 17 décembre 2003 articles 3,4 et 5 .\\n    ${ }^{2}$ Les aides soumises à la conditionnalité couvrent les paiements directs au titre du règlement (UE) $n^{\\\\circ}$ 1307/2013 (paiement de base, paiement redistributif, paiement au titre du verdissement, paiement pour les jeunes agriculteurs, soutiens couplés facultatifs), les paiements au titre des articles 46 et 47 du règlement (UE) $n^{\\\\circ}$ 1308/2013 (restructuration et reconversion des vignobles, vendange en vert) et les primes annuelles en vertu de l'article 21, paragraphe 1, points a) et b), des articles 28 à 31 , et des articles 33 et 34 , du règlement (UE) $n^{\\\\circ} 1305 / 2013$ (aide au boisement et à la création de surfaces boisées, aide pour la mise en place de systèmes agroforestiers, mesures agroenvironnementales et climatiques, soutien à l'agriculture biologique, paiements au titre de Natura 2000 et de la directivecadre sur l'eau, paiements en faveur des zones soumises à des contraintes naturelles ou à d'autres contraintes spécifiques, paiements en faveur du bien-être des animaux, aides correspondant à des engagements forestiers, environnementaux et climatiques).\\n\\n# A] - L'identification des bovins \\n\\nLes règles à respecter au titre de la conditionnalité sont réparties en quatre grands thèmes :\\n\\n- l'identification individuelle des animaux, à savoir principalement l'apposition aux deux oreilles d'une marque auriculaire plastique agréée de couleur saumon comportant 10 chiffres précédés du code pays. L'éleveur identifie lui-même les animaux nés sur son exploitation dans un délai maximum de 20 jours après la naissance. Il notifie à l'EDE toute constatation de perte de marque auriculaire. Ce numéro d'identification doit être conservé par l'animal toute sa vie ;\\n- la tenue du registre, avec notamment l'indication de toutes les entrées et sorties d'animaux de l'exploitation (achats, ventes, naissances, équarrissage, ...) ;\\n- les notifications de mouvement des animaux (un mouvement correspond à la naissance, une entrée, une sortie ou la mort d'un animal d'une exploitation). L'éleveur doit notifier chaque mouvement à l'EDE dans un délai de 7 jours calendaires maximum, la naissance étant notifiée dans un délai de 7 jours maximum après l'apposition des marques auriculaires (soit dans un délai maximum de 27 jours après la naissance) ;\\n- les documents d'accompagnement. Aucun bovin ne doit circuler sans passeport correctement renseigné, en particulier en ce qui concerne ses mouvements successifs qui doivent figurer au verso.\\n\\n\\n## Que vérifie-t-on?\\n\\nLors du contrôle sur place, il est vérifié le respect de la réglementation relative à l'IPG sur les douze mois qui précèdent le contrôle (sauf la vérification du respect du délai de notification de mouvement des animaux qui s'établit à partir du 1er janvier de l'année en cours).\\n\\nConditions et délai de remise en conformité des anomalies prises en compte dans le cadre du système d'avertissement précoce (rappel : aucune réduction n'est appliquée pour ces anomalies, sauf en cas de nouveau contrôle réalisé avant le 31 décembre de la deuxième année suivant l'année du contrôle initial établissant l'absence de réalisation d'une action corrective dans les délais prescrits)\\n\\nLorsque la non-conformité « Animaux de plus de 20 jours sans marque auriculaire agréée, et ce pour un animal ou deux animaux de sexe, de type racial ou de tranche d'âge différents, sans perte de traçabilité » est constatée, les conditions de remise en conformité seront considérées remplies, dans le cadre d'une vérification lors d'un deuxième contrôle (non systématique) réalisé avant le 31 décembre de la deuxième année suivant l'année du contrôle initial, lorsque l'exploitant aura, en présence du contrôleur (lors du contrôle initial), commandé une visite de l'EdE (par informatique, par fax, par téléphone ou par un courrier timbré remis au contrôleur) pour que l'EdE vérifie le maintien de la traçabilité, et si tel est le cas, réalisé la pose de deux boucles de remplacement à l'identique.\\n\\nLorsque la non-conformité « Animaux de plus de 20 jours avec une boucle manquante ou illisible (ou deux boucles illisibles sans perte de traçabilité), sans que l'EDE n'ait été prévenu, et ce pour moins de $10 \\\\%$ des animaux et/ou moins de 3 animaux » est constatée, les conditions de remise en conformité seront considérées remplies, dans le cadre d'une vérification lors d'un deuxième contrôle (non systématique) réalisé avant le 31 décembre de la deuxième année suivant l'année du contrôle initial, lorsque l'exploitant aura, en présence du contrôleur (lors du contrôle initial) :\\n\\n- dans le cas d'une boucle manquante ou illisible, posé une boucle de remplacement ou commandé (par informatique, par fax, par téléphone ou par un courrier timbré remis au contrôleur) une boucle de remplacement à l'identique,\\n- dans le cas de deux boucles illisibles sans perte de traçabilité, commandé une visite de l'EdE (par informatique, par fax, par téléphone ou par un courrier timbré remis au contrôleur) pour que l'EdE réalise la pose de deux boucles de remplacement à l'identique.\\n\\nLorsque la non-conformité «Marque de re-bouclage non posée par le détenteur dans les délais, et ce pour moins de 10 boucles » est constatée, la remise en conformité est concrètement impossible au regard de la nature de l'anomalie. Dans ce cas particulier, les conditions de remise en conformité seront considérées remplies, dans le cadre d'une vérification lors d'un deuxième contrôle (non systématique) réalisé au cours de l'une des deux années suivant l'année du constat d'anomalie dans le cadre du système d'avertissement précoce, lor\", 'file_name': '2022_fiche-technique_sante-animaux-4_identification.md', 'date': '2022'}, vector=None, shard_key=None, order_value=None)]"
      ]
     },
     "execution_count": 89,
     "metadata": {},
     "output_type": "execute_result"
    }
   ],
   "source": [
    "from qdrant_client.http import models\n",
    "\n",
    "def vector_search(query, file_names, collection_name=\"technical_reports\"):\n",
    "    query_embedding = client.embeddings.create(\n",
    "        model=\"mistral-embed\",\n",
    "        inputs=[query],\n",
    "    ).data[0].embedding\n",
    "\n",
    "    response = qdrant_client.query_points(\n",
    "        collection_name=collection_name,\n",
    "        query=query_embedding,\n",
    "        limit=2,\n",
    "        query_filter=models.Filter(\n",
    "            must=[\n",
    "                models.FieldCondition(\n",
    "                    key=\"file_name\",\n",
    "                    match=models.MatchAny(any=\n",
    "                        file_names\n",
    "                    )\n",
    "                )\n",
    "            ]\n",
    "        )\n",
    "    )\n",
    "\n",
    "    return response.points\n",
    "\n",
    "import os\n",
    "\n",
    "files = os.listdir(\"../../data/md/technical_reports\")\n",
    "\n",
    "vector_search(\"Quelle est la législation sur les OGM ?\", files)"
   ]
  },
  {
   "cell_type": "markdown",
   "id": "8a5dd388",
   "metadata": {},
   "source": [
    "Predict plant disease"
   ]
  },
  {
   "cell_type": "code",
   "execution_count": 69,
   "id": "b46c4129",
   "metadata": {},
   "outputs": [
    {
     "data": {
      "text/plain": [
       "{'prediction': np.str_('Potato___Late_blight'),\n",
       " 'confidence': 99.99701976776123,\n",
       " 'top_predictions': [{'disease': np.str_('Potato___Late_blight'),\n",
       "   'confidence': 99.99701976776123},\n",
       "  {'disease': np.str_('Tomato_Late_blight'),\n",
       "   'confidence': 0.002857758227037266},\n",
       "  {'disease': np.str_('Potato___Early_blight'),\n",
       "   'confidence': 7.023748480605718e-05}]}"
      ]
     },
     "execution_count": 69,
     "metadata": {},
     "output_type": "execute_result"
    }
   ],
   "source": [
    "from plant_disease.disease_prediction import predict_from_image\n",
    "\n",
    "def predict_image(image):    \n",
    "    contents = image.read()\n",
    "    results = predict_from_image(image_data=contents)\n",
    "    \n",
    "    return results\n",
    "\n",
    "with open(\"40285dce-33de-4a59-82f4-2eb1d6d38469___RS_LB 4929.JPG\", \"rb\") as img_file:\n",
    "    result = predict_image(img_file)\n",
    "result"
   ]
  },
  {
   "cell_type": "code",
   "execution_count": 90,
   "id": "1eac2534",
   "metadata": {},
   "outputs": [
    {
     "data": {
      "text/plain": [
       "\"La législation sur les organismes génétiquement modifiés (OGM) en Europe est principalement régie par plusieurs règlements et directives de l'Union européenne. Voici un aperçu des principaux textes législatifs :\\n\\n1. **Règlement (CE) n° 1829/2003** :\\n   - Ce règlement concerne les denrées alimentaires et les aliments pour animaux génétiquement modifiés.\\n   - Il établit des procédures pour l'autorisation des OGM dans l'alimentation humaine et animale.\\n   - Il impose des exigences en matière d'étiquetage et de traçabilité pour les produits contenant des OGM.\\n\\n2. **Règlement (CE) n° 1830/2003** :\\n   - Ce règlement concerne la traçabilité et l'étiquetage des OGM et des produits dérivés d'OGM destinés à être mis sur le marché.\\n   - Il impose des obligations de traçabilité pour les OGM et les produits dérivés d'OGM à toutes les étapes de la chaîne de production et de distribution.\\n\\n3. **Directive 2001/18/CE** :\\n   - Cette directive régit la dissémination volontaire d'OGM dans l'environnement.\\n   - Elle établit des procédures pour l'évaluation des risques et l'autorisation de la dissémination d'OGM.\\n   - Elle impose des exigences en matière de surveillance et de suivi des OGM après leur mise sur le marché.\\n\\n4. **Règlement (CE) n° 1946/2003** :\\n   - Ce règlement concerne les mesures transitoires relatives à l'étiquetage des denrées alimentaires et des aliments pour animaux génétiquement modifiés.\\n   - Il vise à assurer une transition en douceur vers les nouvelles exigences en matière d'étiquetage et de traçabilité.\\n\\n5. **Règlement (UE) n° 503/2013** :\\n   - Ce règlement modifie le règlement (CE) n° 1829/2003 en ce qui concerne les exigences en matière d'étiquetage des denrées alimentaires et des aliments pour animaux génétiquement modifiés.\\n   - Il précise les informations qui doivent figurer sur l'étiquetage des produits contenant des OGM.\\n\\n6. **Directive (UE) 2015/412** :\\n   - Cette directive permet aux États membres de restreindre ou d'interdire la culture d'OGM sur leur territoire, même si ces OGM ont été autorisés au niveau de l'UE.\\n   - Elle vise à donner plus de flexibilité aux États membres pour gérer la culture des OGM en fonction de leurs préoccupations spécifiques.\\n\\nCes textes législatifs visent à garantir la sécurité des OGM pour la santé humaine et animale, ainsi que pour l'environnement. Ils imposent des exigences strictes en matière d'évaluation des risques, d'autorisation, de traçabilité et d'étiquetage. Les États membres de l'UE sont tenus de mettre en œuvre ces règlements et directives dans leur législation nationale.\""
      ]
     },
     "execution_count": 90,
     "metadata": {},
     "output_type": "execute_result"
    }
   ],
   "source": [
    "from mistralai.models import UserMessage\n",
    "\n",
    "def chat(messages):\n",
    "\n",
    "    user_query = messages[-1].content\n",
    "    intent = detect_intent(user_query)\n",
    "\n",
    "    if intent == 'policy_help':\n",
    "        context_docs = retrieve_documents(user_query)\n",
    "        context = vector_search(user_query, context_docs.keys())\n",
    "\n",
    "        context_text = \"\\n\\n\".join([f\"Nom du document :{doc.payload['file_name']}. Date du document :{doc.payload['date']}.\\nContenu du document :\\n{doc.payload['text']}\" for doc in context])\n",
    "\n",
    "        message = UserMessage(\n",
    "            content=f\"Context: {context_text}\\n\\n{user_query}\"\n",
    "        )\n",
    "\n",
    "        response = client.chat.complete(\n",
    "            model=model,\n",
    "            messages=[message],\n",
    "            max_tokens=1000,\n",
    "            temperature=0.1,\n",
    "        )\n",
    "\n",
    "        return response.choices[0].message.content\n",
    "\n",
    "    elif intent == 'market_question':\n",
    "        pass\n",
    "    elif intent == 'disease_diagnosis':\n",
    "        return \"Please upload an image of the plant leaf for diagnosis.\"\n",
    "\n",
    "\n",
    "    elif intent == 'weather_management':\n",
    "        pass\n",
    "\n",
    "    else:\n",
    "        pass\n",
    "\n",
    "chat([\n",
    "    ChatMessage(\n",
    "        role=\"user\",\n",
    "        content=\"Quelle est la législation sur les OGM ?\"\n",
    "    )\n",
    "])\n"
   ]
  },
  {
   "cell_type": "code",
   "execution_count": 23,
   "id": "bcbe3928",
   "metadata": {},
   "outputs": [
    {
     "data": {
      "text/plain": [
       "'other'"
      ]
     },
     "execution_count": 23,
     "metadata": {},
     "output_type": "execute_result"
    }
   ],
   "source": [
    "detect_intent(\"Comment mettre en place une culture de tomates en Normandie ?\")"
   ]
  }
 ],
 "metadata": {
  "kernelspec": {
   "display_name": ".venv",
   "language": "python",
   "name": "python3"
  },
  "language_info": {
   "codemirror_mode": {
    "name": "ipython",
    "version": 3
   },
   "file_extension": ".py",
   "mimetype": "text/x-python",
   "name": "python",
   "nbconvert_exporter": "python",
   "pygments_lexer": "ipython3",
   "version": "3.12.3"
  }
 },
 "nbformat": 4,
 "nbformat_minor": 5
}
