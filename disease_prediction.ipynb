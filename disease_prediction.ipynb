{
 "cells": [
  {
   "cell_type": "code",
   "execution_count": 7,
   "id": "c8879454",
   "metadata": {},
   "outputs": [
    {
     "name": "stdout",
     "output_type": "stream",
     "text": [
      "==========================================================================================\n",
      "Layer (type:depth-idx)                   Output Shape              Param #\n",
      "==========================================================================================\n",
      "PlantDiseaseModel                        [1, 15]                   --\n",
      "├─Sequential: 1-1                        [1, 64, 112, 112]         --\n",
      "│    └─Conv2d: 2-1                       [1, 64, 224, 224]         1,792\n",
      "│    └─BatchNorm2d: 2-2                  [1, 64, 224, 224]         128\n",
      "│    └─ReLU: 2-3                         [1, 64, 224, 224]         --\n",
      "│    └─MaxPool2d: 2-4                    [1, 64, 112, 112]         --\n",
      "├─Sequential: 1-2                        [1, 128, 56, 56]          --\n",
      "│    └─Conv2d: 2-5                       [1, 128, 112, 112]        73,856\n",
      "│    └─BatchNorm2d: 2-6                  [1, 128, 112, 112]        256\n",
      "│    └─ReLU: 2-7                         [1, 128, 112, 112]        --\n",
      "│    └─MaxPool2d: 2-8                    [1, 128, 56, 56]          --\n",
      "├─Sequential: 1-3                        [1, 256, 28, 28]          --\n",
      "│    └─Conv2d: 2-9                       [1, 256, 56, 56]          295,168\n",
      "│    └─BatchNorm2d: 2-10                 [1, 256, 56, 56]          512\n",
      "│    └─ReLU: 2-11                        [1, 256, 56, 56]          --\n",
      "│    └─MaxPool2d: 2-12                   [1, 256, 28, 28]          --\n",
      "├─Sequential: 1-4                        [1, 512, 14, 14]          --\n",
      "│    └─Conv2d: 2-13                      [1, 512, 28, 28]          1,180,160\n",
      "│    └─BatchNorm2d: 2-14                 [1, 512, 28, 28]          1,024\n",
      "│    └─ReLU: 2-15                        [1, 512, 28, 28]          --\n",
      "│    └─MaxPool2d: 2-16                   [1, 512, 14, 14]          --\n",
      "├─Sequential: 1-5                        [1, 512, 7, 7]            --\n",
      "│    └─Conv2d: 2-17                      [1, 512, 14, 14]          2,359,808\n",
      "│    └─BatchNorm2d: 2-18                 [1, 512, 14, 14]          1,024\n",
      "│    └─ReLU: 2-19                        [1, 512, 14, 14]          --\n",
      "│    └─MaxPool2d: 2-20                   [1, 512, 7, 7]            --\n",
      "├─AdaptiveAvgPool2d: 1-6                 [1, 512, 1, 1]            --\n",
      "├─Sequential: 1-7                        [1, 15]                   --\n",
      "│    └─Flatten: 2-21                     [1, 512]                  --\n",
      "│    └─Linear: 2-22                      [1, 256]                  131,328\n",
      "│    └─ReLU: 2-23                        [1, 256]                  --\n",
      "│    └─Dropout: 2-24                     [1, 256]                  --\n",
      "│    └─Linear: 2-25                      [1, 15]                   3,855\n",
      "==========================================================================================\n",
      "Total params: 4,048,911\n",
      "Trainable params: 4,048,911\n",
      "Non-trainable params: 0\n",
      "Total mult-adds (Units.GIGABYTES): 3.33\n",
      "==========================================================================================\n",
      "Input size (MB): 0.60\n",
      "Forward/backward pass size (MB): 97.95\n",
      "Params size (MB): 16.20\n",
      "Estimated Total Size (MB): 114.74\n",
      "==========================================================================================\n"
     ]
    }
   ],
   "source": [
    "from torchinfo import summary\n",
    "from torch import nn\n",
    "\n",
    "class PlantDiseaseModel(nn.Module):\n",
    "    \"\"\"Convolutional Neural Network for plant disease classification\"\"\"\n",
    "    def __init__(self, num_classes, dropout_rate=0.5):\n",
    "        super(PlantDiseaseModel, self).__init__()\n",
    "        # Convolutional Block 1\n",
    "        self.conv_block1 = nn.Sequential(\n",
    "            nn.Conv2d(3, 64, kernel_size=3, padding=\"same\"),\n",
    "            nn.BatchNorm2d(64),\n",
    "            nn.ReLU(),\n",
    "            nn.MaxPool2d(kernel_size=2)\n",
    "        )\n",
    "        # Convolutional Block 2\n",
    "        self.conv_block2 = nn.Sequential(\n",
    "            nn.Conv2d(64, 128, kernel_size=3, padding=\"same\"),\n",
    "            nn.BatchNorm2d(128),\n",
    "            nn.ReLU(),\n",
    "            nn.MaxPool2d(kernel_size=2)\n",
    "        )\n",
    "        # Convolutional Block 3\n",
    "        self.conv_block3 = nn.Sequential(\n",
    "            nn.Conv2d(128, 256, kernel_size=3, padding=\"same\"),\n",
    "            nn.BatchNorm2d(256),\n",
    "            nn.ReLU(),\n",
    "            nn.MaxPool2d(kernel_size=2)\n",
    "        )\n",
    "        # Convolutional Block 4\n",
    "        self.conv_block4 = nn.Sequential(\n",
    "            nn.Conv2d(256, 512, kernel_size=3, padding=\"same\"),\n",
    "            nn.BatchNorm2d(512),\n",
    "            nn.ReLU(),\n",
    "            nn.MaxPool2d(kernel_size=2)\n",
    "        )\n",
    "        # Convolutional Block 5\n",
    "        self.conv_block5 = nn.Sequential(\n",
    "            nn.Conv2d(512, 512, kernel_size=3, padding=\"same\"),\n",
    "            nn.BatchNorm2d(512),\n",
    "            nn.ReLU(),\n",
    "            nn.MaxPool2d(kernel_size=2)\n",
    "        )\n",
    "        # Global Average Pooling\n",
    "        self.global_avg_pool = nn.AdaptiveAvgPool2d((1, 1))\n",
    "        # Fully Connected Layers\n",
    "        self.fc_block = nn.Sequential(\n",
    "            nn.Flatten(),\n",
    "            nn.Linear(512, 256),\n",
    "            nn.ReLU(),\n",
    "            nn.Dropout(dropout_rate),\n",
    "            nn.Linear(256, num_classes)\n",
    "        )\n",
    "\n",
    "    def forward(self, x):\n",
    "        x = self.conv_block1(x)\n",
    "        x = self.conv_block2(x)\n",
    "        x = self.conv_block3(x)\n",
    "        x = self.conv_block4(x)\n",
    "        x = self.conv_block5(x)\n",
    "        x = self.global_avg_pool(x)\n",
    "        x = self.fc_block(x)\n",
    "        return x\n",
    "\n",
    "print(summary(PlantDiseaseModel(15), input_size=(1, 3, 224, 224)))"
   ]
  },
  {
   "cell_type": "code",
   "execution_count": 10,
   "id": "22924170",
   "metadata": {},
   "outputs": [
    {
     "name": "stderr",
     "output_type": "stream",
     "text": [
      "/home/estienne/Projects/mistral-interview/.venv/lib/python3.12/site-packages/tqdm/auto.py:21: TqdmWarning: IProgress not found. Please update jupyter and ipywidgets. See https://ipywidgets.readthedocs.io/en/stable/user_install.html\n",
      "  from .autonotebook import tqdm as notebook_tqdm\n"
     ]
    },
    {
     "name": "stdout",
     "output_type": "stream",
     "text": [
      "Downloading from https://www.kaggle.com/api/v1/datasets/download/emmarex/plantdisease?dataset_version_number=1...\n"
     ]
    },
    {
     "name": "stderr",
     "output_type": "stream",
     "text": [
      "100%|██████████| 658M/658M [06:41<00:00, 1.72MB/s] "
     ]
    },
    {
     "name": "stdout",
     "output_type": "stream",
     "text": [
      "Extracting files...\n"
     ]
    },
    {
     "name": "stderr",
     "output_type": "stream",
     "text": [
      "\n"
     ]
    },
    {
     "name": "stdout",
     "output_type": "stream",
     "text": [
      "Path to dataset files: /home/estienne/.cache/kagglehub/datasets/emmarex/plantdisease/versions/1\n"
     ]
    }
   ],
   "source": [
    "import kagglehub\n",
    "\n",
    "path = kagglehub.dataset_download(\"emmarex/plantdisease\")\n",
    "\n",
    "print(\"Path to dataset files:\", path)"
   ]
  },
  {
   "cell_type": "code",
   "execution_count": 23,
   "id": "3e7e26a8",
   "metadata": {},
   "outputs": [
    {
     "name": "stdout",
     "output_type": "stream",
     "text": [
      "[INFO] Loading images...\n",
      "[INFO] Image loading completed\n",
      "Total images: 20638\n"
     ]
    }
   ],
   "source": [
    "import json\n",
    "from multiprocessing.spawn import prepare\n",
    "import pickle\n",
    "from sklearn.preprocessing import LabelEncoder\n",
    "import os\n",
    "from torchvision import transforms\n",
    "\n",
    "def load_images(directory_root):\n",
    "    \"\"\"Load images and their labels from directory structure\"\"\"\n",
    "    image_list, label_list = [], []\n",
    "    print(\"[INFO] Loading images...\")\n",
    "\n",
    "    for disease_folder in os.listdir(directory_root):\n",
    "        disease_folder_path = os.path.join(directory_root, disease_folder)\n",
    "        if not os.path.isdir(disease_folder_path):\n",
    "            continue\n",
    "\n",
    "        for img_name in os.listdir(disease_folder_path):\n",
    "            if img_name.startswith(\".\"):\n",
    "                continue\n",
    "            img_path = os.path.join(disease_folder_path, img_name)\n",
    "            if img_path.lower().endswith(('.jpg', '.jpeg', '.png')):\n",
    "                image_list.append(img_path)\n",
    "                label_list.append(disease_folder)\n",
    "\n",
    "    print(\"[INFO] Image loading completed\")\n",
    "    print(f\"Total images: {len(image_list)}\")\n",
    "    return image_list, label_list\n",
    "\n",
    "def prepare_data(directory_root, image_size=(256, 256), batch_size=32, test_size=0.3, valid_ratio=0.5, random_state=42):\n",
    "    \"\"\"Prepare data loaders and label encoder\"\"\"\n",
    "    # Load images and labels\n",
    "    image_paths, labels = load_images(directory_root)\n",
    "\n",
    "    # Encode labels as integers\n",
    "    label_encoder = LabelEncoder()\n",
    "    labels_encoded = label_encoder.fit_transform(labels)\n",
    "\n",
    "    # Save label encoder for inference\n",
    "    with open('label_encoder.pkl', 'wb') as f:\n",
    "        pickle.dump(label_encoder, f)\n",
    "\n",
    "    valid_test_transform = transforms.Compose([\n",
    "        transforms.Resize(image_size),\n",
    "        transforms.ToTensor(),\n",
    "        transforms.Normalize(mean=[0.485, 0.456, 0.406], std=[0.229, 0.224, 0.225])\n",
    "    ])\n",
    "\n",
    "    # Save image transformation for inference\n",
    "    with open('inference_transform.pkl', 'wb') as f:\n",
    "        pickle.dump(valid_test_transform, f)\n",
    "\n",
    "\n",
    "prepare_data(path+\"/PlantVillage\")"
   ]
  },
  {
   "cell_type": "code",
   "execution_count": 29,
   "id": "ce5c00c9",
   "metadata": {},
   "outputs": [
    {
     "name": "stdout",
     "output_type": "stream",
     "text": [
      "Random test images copied to: plant_disease/images\n"
     ]
    }
   ],
   "source": [
    "import os\n",
    "import shutil\n",
    "import random\n",
    "\n",
    "source_dir = os.path.join(path, \"PlantVillage\")\n",
    "test_dir = os.path.join(\"plant_disease/images\")\n",
    "\n",
    "os.makedirs(test_dir, exist_ok=True)\n",
    "\n",
    "for class_name in os.listdir(source_dir):\n",
    "    class_path = os.path.join(source_dir, class_name)\n",
    "    if not os.path.isdir(class_path):\n",
    "        continue\n",
    "\n",
    "    images = [img for img in os.listdir(class_path) if img.lower().endswith(('.jpg', '.jpeg', '.png'))]\n",
    "    selected_images = random.sample(images, min(5, len(images)))\n",
    "\n",
    "    target_class_dir = os.path.join(test_dir, class_name)\n",
    "    os.makedirs(target_class_dir, exist_ok=True)\n",
    "\n",
    "    for img_name in selected_images:\n",
    "        src_img = os.path.join(class_path, img_name)\n",
    "        dst_img = os.path.join(target_class_dir, img_name)\n",
    "        shutil.copy2(src_img, dst_img)\n",
    "\n",
    "print(\"Random test images copied to:\", test_dir)"
   ]
  },
  {
   "cell_type": "code",
   "execution_count": 33,
   "id": "ca31472a",
   "metadata": {},
   "outputs": [
    {
     "name": "stdout",
     "output_type": "stream",
     "text": [
      "Predicted class: Tomato__Target_Spot, Confidence: 99.96%\n"
     ]
    }
   ],
   "source": [
    "def predict_plant_disease(image_path, model_path, label_encoder_path, transform_path):\n",
    "    \"\"\"\n",
    "    Predict plant disease from an image\n",
    "    \n",
    "    Arguments:\n",
    "    image_path -- path to the image file\n",
    "    model_path -- path to the trained model\n",
    "    label_encoder_path -- path to the saved label encoder\n",
    "    transform_path -- path to the saved transform\n",
    "    \n",
    "    Returns:\n",
    "    predicted_class -- the predicted disease class\n",
    "    confidence -- confidence score as percentage\n",
    "    \"\"\"\n",
    "    import torch\n",
    "    import pickle\n",
    "    import json\n",
    "    from PIL import Image\n",
    "    \n",
    "    # Load model\n",
    "    with open('class_names.json', 'r') as f:\n",
    "        class_names = json.load(f)\n",
    "    num_classes = len(class_names)\n",
    "    \n",
    "    model = PlantDiseaseModel(num_classes=num_classes)\n",
    "    model.load_state_dict(torch.load(model_path))\n",
    "    device = torch.device(\"cuda\" if torch.cuda.is_available() else \"cpu\")\n",
    "    model.to(device)\n",
    "    model.eval()\n",
    "    \n",
    "    # Load label encoder and transform\n",
    "    with open(label_encoder_path, 'rb') as f:\n",
    "        label_encoder = pickle.load(f)\n",
    "    \n",
    "    with open(transform_path, 'rb') as f:\n",
    "        transform = pickle.load(f)\n",
    "    \n",
    "    # Load and preprocess image\n",
    "    image = Image.open(image_path).convert('RGB')\n",
    "    image_tensor = transform(image).unsqueeze(0).to(device)\n",
    "    \n",
    "    # Get prediction\n",
    "    with torch.no_grad():\n",
    "        outputs = model(image_tensor)\n",
    "        probabilities = torch.nn.functional.softmax(outputs, dim=1)[0]\n",
    "    \n",
    "    # Get top prediction\n",
    "    top_prob, top_class = torch.max(probabilities, 0)\n",
    "    predicted_class = label_encoder.inverse_transform([top_class.item()])[0]\n",
    "    confidence = float(top_prob.item()) * 100\n",
    "    \n",
    "    return predicted_class, confidence\n",
    "\n",
    "# Example usage\n",
    "image_path = \"plant_disease/images/Tomato__Target_Spot/5d157d30-435f-4572-9722-43439ebe6ed2___Com.G_TgS_FL 1048.JPG\"\n",
    "model_path = \"plant_disease/model.pth\"\n",
    "label_encoder_path = \"label_encoder.pkl\"\n",
    "transform_path = \"inference_transform.pkl\"\n",
    "predicted_class, confidence = predict_plant_disease(image_path, model_path, label_encoder_path, transform_path)\n",
    "print(f\"Predicted class: {predicted_class}, Confidence: {confidence:.2f}%\")\n"
   ]
  }
 ],
 "metadata": {
  "kernelspec": {
   "display_name": ".venv",
   "language": "python",
   "name": "python3"
  },
  "language_info": {
   "codemirror_mode": {
    "name": "ipython",
    "version": 3
   },
   "file_extension": ".py",
   "mimetype": "text/x-python",
   "name": "python",
   "nbconvert_exporter": "python",
   "pygments_lexer": "ipython3",
   "version": "3.12.3"
  }
 },
 "nbformat": 4,
 "nbformat_minor": 5
}
